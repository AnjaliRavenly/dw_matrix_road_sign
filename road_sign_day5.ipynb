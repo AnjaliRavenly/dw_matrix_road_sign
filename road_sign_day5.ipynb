{
  "nbformat": 4,
  "nbformat_minor": 0,
  "metadata": {
    "colab": {
      "name": "road_sign_day5.ipynb",
      "provenance": [],
      "mount_file_id": "1ny1DM_se5R6MZLC6VmWFYoMVeOw-zs2T",
      "authorship_tag": "ABX9TyNB6UwvvpdW3xvnelnP/u5A",
      "include_colab_link": true
    },
    "kernelspec": {
      "name": "python3",
      "display_name": "Python 3"
    },
    "accelerator": "GPU"
  },
  "cells": [
    {
      "cell_type": "markdown",
      "metadata": {
        "id": "view-in-github",
        "colab_type": "text"
      },
      "source": [
        "<a href=\"https://colab.research.google.com/github/AnjaliRavenly/dw_matrix_road_sign/blob/master/road_sign_day5.ipynb\" target=\"_parent\"><img src=\"https://colab.research.google.com/assets/colab-badge.svg\" alt=\"Open In Colab\"/></a>"
      ]
    },
    {
      "cell_type": "code",
      "metadata": {
        "id": "wl_aBRgw5C07",
        "colab_type": "code",
        "outputId": "036f1887-36dd-4302-8db5-30ca6cd37eae",
        "colab": {
          "base_uri": "https://localhost:8080/",
          "height": 170
        }
      },
      "source": [
        "!pip install hyperopt"
      ],
      "execution_count": 1,
      "outputs": [
        {
          "output_type": "stream",
          "text": [
            "Requirement already satisfied: hyperopt in /usr/local/lib/python3.6/dist-packages (0.1.2)\n",
            "Requirement already satisfied: future in /usr/local/lib/python3.6/dist-packages (from hyperopt) (0.16.0)\n",
            "Requirement already satisfied: tqdm in /usr/local/lib/python3.6/dist-packages (from hyperopt) (4.38.0)\n",
            "Requirement already satisfied: scipy in /usr/local/lib/python3.6/dist-packages (from hyperopt) (1.4.1)\n",
            "Requirement already satisfied: six in /usr/local/lib/python3.6/dist-packages (from hyperopt) (1.12.0)\n",
            "Requirement already satisfied: numpy in /usr/local/lib/python3.6/dist-packages (from hyperopt) (1.18.2)\n",
            "Requirement already satisfied: pymongo in /usr/local/lib/python3.6/dist-packages (from hyperopt) (3.10.1)\n",
            "Requirement already satisfied: networkx in /usr/local/lib/python3.6/dist-packages (from hyperopt) (2.4)\n",
            "Requirement already satisfied: decorator>=4.3.0 in /usr/local/lib/python3.6/dist-packages (from networkx->hyperopt) (4.4.2)\n"
          ],
          "name": "stdout"
        }
      ]
    },
    {
      "cell_type": "code",
      "metadata": {
        "id": "kvrtT6yW5QIc",
        "colab_type": "code",
        "colab": {}
      },
      "source": [
        "import pandas as pd\n",
        "import numpy as np\n",
        "import tensorflow as tf\n",
        "from tensorflow.keras.models import Sequential\n",
        "from tensorflow.keras.layers import Conv2D, MaxPool2D, Dense, Flatten, Dropout\n",
        "from tensorflow.keras.utils import to_categorical\n",
        "import os\n",
        "import datetime\n",
        "import matplotlib.pyplot as plt\n",
        "from skimage import color, exposure\n",
        "from sklearn.metrics import accuracy_score\n",
        "from hyperopt import hp, STATUS_OK, tpe, Trials, fmin\n",
        "%reload_ext tensorboard"
      ],
      "execution_count": 0,
      "outputs": []
    },
    {
      "cell_type": "code",
      "metadata": {
        "id": "zSlwMeca5sRC",
        "colab_type": "code",
        "outputId": "4d348217-d161-4e80-d65c-e272128addcb",
        "colab": {
          "base_uri": "https://localhost:8080/",
          "height": 34
        }
      },
      "source": [
        "cd '/content/drive/My Drive/Colab Notebooks/dw_matrix/matrix_three/dw_matrix_road_sign'"
      ],
      "execution_count": 3,
      "outputs": [
        {
          "output_type": "stream",
          "text": [
            "/content/drive/My Drive/Colab Notebooks/dw_matrix/matrix_three/dw_matrix_road_sign\n"
          ],
          "name": "stdout"
        }
      ]
    },
    {
      "cell_type": "code",
      "metadata": {
        "id": "MfNc-lW85sm3",
        "colab_type": "code",
        "colab": {}
      },
      "source": [
        "train = pd.read_pickle('data/train.p')\n",
        "test = pd.read_pickle('data/test.p')\n",
        "\n",
        "X_train, y_train = train['features'], train['labels']\n",
        "X_test, y_test = test['features'], test['labels']"
      ],
      "execution_count": 0,
      "outputs": []
    },
    {
      "cell_type": "code",
      "metadata": {
        "id": "8QiblPiJ6LdO",
        "colab_type": "code",
        "colab": {}
      },
      "source": [
        "if y_train.ndim == 1: y_train = to_categorical(y_train)\n",
        "if y_test.ndim == 1: y_test = to_categorical(y_test)\n",
        "input_shape = X_train.shape[1:]\n",
        "num_classes = y_train.shape[1]"
      ],
      "execution_count": 0,
      "outputs": []
    },
    {
      "cell_type": "code",
      "metadata": {
        "id": "swMjGxfI8xwR",
        "colab_type": "code",
        "colab": {}
      },
      "source": [
        "def train_model(model, X_train, y_train, params_fit={}):\n",
        "  model.compile(loss='categorical_crossentropy', optimizer='Adam', metrics=['accuracy'])\n",
        "\n",
        "  logdir = os.path.join('logs', datetime.datetime.now().strftime(\"%Y%m%d-%H%M%S\"))\n",
        "  tensorboard_callback = tf.keras.callbacks.TensorBoard(logdir, histogram_freq=1)\n",
        "\n",
        "  model.fit(\n",
        "      X_train, \n",
        "      y_train,\n",
        "      batch_size = params_fit.get('batch_size', 128),\n",
        "      epochs = params_fit.get('epochs', 5),\n",
        "      vorbose = params_fit.get('verbose', 1),\n",
        "      validation_data = params_fit.get('validation_data', (X_train, y_train)),\n",
        "      callbacks = [tensorboard_callback]\n",
        "      ) \n",
        "  return model\n",
        "\n",
        "def predict(model_trained, X_test, y_test, scoring=accuracy_score):\n",
        "  y_test_norm = np.argmax(y_test, axis=1)\n",
        "  y_pred_prob = model_trained.predict(X_test)\n",
        "  y_pred = np.argmax(y_pred_prob, axis=1)\n",
        "  return scoring(y_test_norm, y_pred)"
      ],
      "execution_count": 0,
      "outputs": []
    },
    {
      "cell_type": "code",
      "metadata": {
        "id": "yDF4g2Qn9J7z",
        "colab_type": "code",
        "colab": {}
      },
      "source": [
        "def get_cnn_v6(input_shape, num_classes):\n",
        "  return Sequential([\n",
        "  Conv2D(filters=32, kernel_size=(3,3), activation='relu', input_shape=input_shape),\n",
        "  Conv2D(filters=32, kernel_size=(3,3), activation='relu', padding='same'),\n",
        "  Conv2D(filters=32, kernel_size=(3,3), activation='relu', padding='same'),\n",
        "  MaxPool2D(),\n",
        "  Dropout(0.3),\n",
        "  Conv2D(filters=64, kernel_size=(3,3), activation='relu', padding='same'),\n",
        "  Conv2D(filters=64, kernel_size=(3,3), activation='relu', padding='same'),\n",
        "  Conv2D(filters=64, kernel_size=(3,3), activation='relu'),\n",
        "  MaxPool2D(),\n",
        "  Dropout(0.3),\n",
        "  Conv2D(filters=128, kernel_size=(3,3), activation='relu', padding='same'),\n",
        "  Conv2D(filters=128, kernel_size=(3,3), activation='relu', padding='same'),\n",
        "  Conv2D(filters=128, kernel_size=(3,3), activation='relu'),\n",
        "  MaxPool2D(),\n",
        "  Dropout(0.3),\n",
        "\n",
        "  Flatten(),\n",
        "  Dense(1024, activation='relu'),\n",
        "  Dropout(0.3),\n",
        "  Dense(1024, activation='relu'),\n",
        "  Dropout(0.3),\n",
        "  Dense(num_classes, activation='softmax'),\n",
        "])\n",
        "\n"
      ],
      "execution_count": 0,
      "outputs": []
    },
    {
      "cell_type": "code",
      "metadata": {
        "id": "0zuKvIPt9r1-",
        "colab_type": "code",
        "outputId": "9a539714-74dd-4c8b-dc58-03c958ca32a6",
        "colab": {
          "base_uri": "https://localhost:8080/",
          "height": 204
        }
      },
      "source": [
        "model = get_cnn_v6(input_shape, num_classes)\n",
        "model_trained = train_model(model, X_train, y_train)\n",
        "predict(model_trained, X_test, y_test)"
      ],
      "execution_count": 14,
      "outputs": [
        {
          "output_type": "stream",
          "text": [
            "Epoch 1/5\n",
            "272/272 [==============================] - 8s 28ms/step - loss: 2.3381 - accuracy: 0.3377 - val_loss: 0.5390 - val_accuracy: 0.8273\n",
            "Epoch 2/5\n",
            "272/272 [==============================] - 7s 27ms/step - loss: 0.4847 - accuracy: 0.8504 - val_loss: 0.1814 - val_accuracy: 0.9445\n",
            "Epoch 3/5\n",
            "272/272 [==============================] - 7s 27ms/step - loss: 0.2278 - accuracy: 0.9321 - val_loss: 0.0670 - val_accuracy: 0.9790\n",
            "Epoch 4/5\n",
            "272/272 [==============================] - 7s 26ms/step - loss: 0.1431 - accuracy: 0.9573 - val_loss: 0.0577 - val_accuracy: 0.9828\n",
            "Epoch 5/5\n",
            "272/272 [==============================] - 7s 26ms/step - loss: 0.1164 - accuracy: 0.9659 - val_loss: 0.0256 - val_accuracy: 0.9929\n"
          ],
          "name": "stdout"
        },
        {
          "output_type": "execute_result",
          "data": {
            "text/plain": [
              "0.9603174603174603"
            ]
          },
          "metadata": {
            "tags": []
          },
          "execution_count": 14
        }
      ]
    },
    {
      "cell_type": "code",
      "metadata": {
        "id": "slYyWStIFZK3",
        "colab_type": "code",
        "colab": {}
      },
      "source": [
        "def get_model(params):\n",
        "  return Sequential([\n",
        "  Conv2D(filters=32, kernel_size=(3,3), activation='relu', input_shape=input_shape),\n",
        "  Conv2D(filters=32, kernel_size=(3,3), activation='relu', padding='same'),\n",
        "  Conv2D(filters=32, kernel_size=(3,3), activation='relu', padding='same'),\n",
        "  MaxPool2D(),\n",
        "  Dropout(0.3),\n",
        "  Conv2D(filters=64, kernel_size=(3,3), activation='relu', padding='same'),\n",
        "  Conv2D(filters=64, kernel_size=(3,3), activation='relu', padding='same'),\n",
        "  Conv2D(filters=64, kernel_size=(3,3), activation='relu'),\n",
        "  MaxPool2D(),\n",
        "  Dropout(0.3),\n",
        "  Conv2D(filters=128, kernel_size=(3,3), activation='relu', padding='same'),\n",
        "  Conv2D(filters=128, kernel_size=(3,3), activation='relu', padding='same'),\n",
        "  Conv2D(filters=128, kernel_size=(3,3), activation='relu'),\n",
        "  MaxPool2D(),\n",
        "  Dropout(0.3),\n",
        "\n",
        "  Flatten(),\n",
        "  Dense(1024, activation='relu'),\n",
        "  Dropout(0.3),\n",
        "  Dense(1024, activation='relu'),\n",
        "  Dropout(0.3),\n",
        "  Dense(num_classes, activation='softmax'),\n",
        "])"
      ],
      "execution_count": 0,
      "outputs": []
    },
    {
      "cell_type": "code",
      "metadata": {
        "id": "oxyjtQ-n_n8M",
        "colab_type": "code",
        "outputId": "10b29e81-7d71-4210-b379-c74427030ab1",
        "colab": {
          "base_uri": "https://localhost:8080/",
          "height": 51
        }
      },
      "source": [
        "model_trained.evaluate(X_test, y_test)[1]"
      ],
      "execution_count": 0,
      "outputs": [
        {
          "output_type": "stream",
          "text": [
            "138/138 [==============================] - 1s 6ms/step - loss: 0.2262 - accuracy: 0.9485\n"
          ],
          "name": "stdout"
        },
        {
          "output_type": "execute_result",
          "data": {
            "text/plain": [
              "0.9485260844230652"
            ]
          },
          "metadata": {
            "tags": []
          },
          "execution_count": 38
        }
      ]
    },
    {
      "cell_type": "code",
      "metadata": {
        "id": "STdDjwG19_mP",
        "colab_type": "code",
        "colab": {}
      },
      "source": [
        "def func_obj(params):\n",
        "  model = get_model(params)\n",
        "  model.compile(loss='categorical_crossentropy', optimizer='Adam', metrics=['accuracy'])\n",
        "  model.fit(\n",
        "      X_train, \n",
        "      y_train,\n",
        "      batch_size = 128, #int(params.get('batch_size', 128)),\n",
        "      epochs = 5,\n",
        "      verbose =0\n",
        "      ) \n",
        "  score = model.evaluate(X_test, y_test, verbose=0)\n",
        "  accuracy = score[1]\n",
        "  print(params, 'accuracy={}'.format(accuracy))\n",
        "  return {'loss': -accuracy, 'status': STATUS_OK, 'model': model}"
      ],
      "execution_count": 0,
      "outputs": []
    },
    {
      "cell_type": "code",
      "metadata": {
        "id": "ggoRrQiPAcPv",
        "colab_type": "code",
        "colab": {}
      },
      "source": [
        "space = {\n",
        "    'batch_size': hp.quniform('batch_size', 100, 200, 10),\n",
        "    'dropout_cnn_block_one':hp.uniform('dropout_cnn_block_one', 0.3, 0.5),\n",
        "    'dropout_cnn_block_two':hp.uniform('dropout_cnn_block_two', 0.3, 0.5),\n",
        "    'dropout_cnn_block_three':hp.uniform('dropout_cnn_block_three', 0.3, 0.5),\n",
        "\n",
        "    'dropout_dense_block_one': hp.uniform('dropout_dense_block_one', 0.3, 0.7),\n",
        "    'dropout_dense_block_two': hp.uniform('dropout_dense_block_two', 0.3, 0.7),\n",
        "}"
      ],
      "execution_count": 0,
      "outputs": []
    },
    {
      "cell_type": "code",
      "metadata": {
        "id": "2-5kq8iABJmK",
        "colab_type": "code",
        "outputId": "e49e11fe-54e0-40bb-93fd-87e45a9c6982",
        "colab": {
          "base_uri": "https://localhost:8080/",
          "height": 1000
        }
      },
      "source": [
        "best = fmin(\n",
        "    func_obj,\n",
        "    space,\n",
        "    tpe.suggest,\n",
        "    30,\n",
        "    Trials()\n",
        ")"
      ],
      "execution_count": 21,
      "outputs": [
        {
          "output_type": "stream",
          "text": [
            "{'batch_size': 170.0, 'dropout_cnn_block_one': 0.42900298782529284, 'dropout_cnn_block_three': 0.455324103990598, 'dropout_cnn_block_two': 0.46859692175334056, 'dropout_dense_block_one': 0.47307405724090384, 'dropout_dense_block_two': 0.33606086605951796}\n",
            "accuracy=0.9614512324333191\n",
            "{'batch_size': 170.0, 'dropout_cnn_block_one': 0.4250439389507681, 'dropout_cnn_block_three': 0.4624576810778951, 'dropout_cnn_block_two': 0.4653509966038555, 'dropout_dense_block_one': 0.5141640174406932, 'dropout_dense_block_two': 0.383642842963836}\n",
            "accuracy=0.9621315002441406\n",
            "{'batch_size': 160.0, 'dropout_cnn_block_one': 0.4842895876528366, 'dropout_cnn_block_three': 0.34828109033997107, 'dropout_cnn_block_two': 0.43788689274867637, 'dropout_dense_block_one': 0.5883041483368991, 'dropout_dense_block_two': 0.4361695907992951}\n",
            "accuracy=0.9696145057678223\n",
            "{'batch_size': 190.0, 'dropout_cnn_block_one': 0.36833993247406915, 'dropout_cnn_block_three': 0.42630279617343125, 'dropout_cnn_block_two': 0.39652913000437817, 'dropout_dense_block_one': 0.6878535740166707, 'dropout_dense_block_two': 0.3579921395453358}\n",
            "accuracy=0.9575963616371155\n",
            "{'batch_size': 120.0, 'dropout_cnn_block_one': 0.46782334041979606, 'dropout_cnn_block_three': 0.3982765820492439, 'dropout_cnn_block_two': 0.34323881763661873, 'dropout_dense_block_one': 0.5049779509398712, 'dropout_dense_block_two': 0.5999313283786659}\n",
            "accuracy=0.9632652997970581\n",
            "{'batch_size': 110.0, 'dropout_cnn_block_one': 0.47388664992069685, 'dropout_cnn_block_three': 0.3894939922135008, 'dropout_cnn_block_two': 0.4036935606612169, 'dropout_dense_block_one': 0.558496792570284, 'dropout_dense_block_two': 0.43567416718662755}\n",
            "accuracy=0.9718821048736572\n",
            "{'batch_size': 160.0, 'dropout_cnn_block_one': 0.3974863796534226, 'dropout_cnn_block_three': 0.3321713478631945, 'dropout_cnn_block_two': 0.3754143615471857, 'dropout_dense_block_one': 0.4247800120141929, 'dropout_dense_block_two': 0.30640641494956117}\n",
            "accuracy=0.978458046913147\n",
            "{'batch_size': 140.0, 'dropout_cnn_block_one': 0.4622981184116073, 'dropout_cnn_block_three': 0.4569535361062753, 'dropout_cnn_block_two': 0.32868853804572573, 'dropout_dense_block_one': 0.455074596575366, 'dropout_dense_block_two': 0.6255737785470246}\n",
            "accuracy=0.9696145057678223\n",
            "{'batch_size': 160.0, 'dropout_cnn_block_one': 0.4018584146775108, 'dropout_cnn_block_three': 0.3334536395678353, 'dropout_cnn_block_two': 0.46782965077348854, 'dropout_dense_block_one': 0.6197022952369073, 'dropout_dense_block_two': 0.391983434574001}\n",
            "accuracy=0.9730158448219299\n",
            "{'batch_size': 180.0, 'dropout_cnn_block_one': 0.3765830824095582, 'dropout_cnn_block_three': 0.48035421605001455, 'dropout_cnn_block_two': 0.4937121978324371, 'dropout_dense_block_one': 0.4279655654471468, 'dropout_dense_block_two': 0.33760746579565726}\n",
            "accuracy=0.9691609740257263\n",
            "{'batch_size': 100.0, 'dropout_cnn_block_one': 0.4533762720079575, 'dropout_cnn_block_three': 0.4931549294958094, 'dropout_cnn_block_two': 0.30581316464804814, 'dropout_dense_block_one': 0.6480288166203112, 'dropout_dense_block_two': 0.31584770301704773}\n",
            "accuracy=0.9800453782081604\n",
            "{'batch_size': 150.0, 'dropout_cnn_block_one': 0.43466951483853633, 'dropout_cnn_block_three': 0.35360702405791944, 'dropout_cnn_block_two': 0.4288532286589258, 'dropout_dense_block_one': 0.5392183539562448, 'dropout_dense_block_two': 0.44553528504334516}\n",
            "accuracy=0.9596371650695801\n",
            "{'batch_size': 140.0, 'dropout_cnn_block_one': 0.457748889825687, 'dropout_cnn_block_three': 0.4489594773244381, 'dropout_cnn_block_two': 0.4299743414042001, 'dropout_dense_block_one': 0.6567544736799239, 'dropout_dense_block_two': 0.37016629565869286}\n",
            "accuracy=0.9541950225830078\n",
            "{'batch_size': 150.0, 'dropout_cnn_block_one': 0.35694700340537616, 'dropout_cnn_block_three': 0.3681040988475635, 'dropout_cnn_block_two': 0.36544513059786715, 'dropout_dense_block_one': 0.49411239760853287, 'dropout_dense_block_two': 0.5124147695481795}\n",
            "accuracy=0.9678004384040833\n",
            "{'batch_size': 160.0, 'dropout_cnn_block_one': 0.3805317924215902, 'dropout_cnn_block_three': 0.35817926545231443, 'dropout_cnn_block_two': 0.4508403131270129, 'dropout_dense_block_one': 0.3050079424228434, 'dropout_dense_block_two': 0.4416162285742391}\n",
            "accuracy=0.974829912185669\n",
            "{'batch_size': 180.0, 'dropout_cnn_block_one': 0.36102804399215344, 'dropout_cnn_block_three': 0.3021208854795882, 'dropout_cnn_block_two': 0.339656658326473, 'dropout_dense_block_one': 0.4553153412324728, 'dropout_dense_block_two': 0.3618717941256608}\n",
            "accuracy=0.9668934345245361\n",
            "{'batch_size': 170.0, 'dropout_cnn_block_one': 0.48636414421048824, 'dropout_cnn_block_three': 0.41091036478592974, 'dropout_cnn_block_two': 0.38488213316295294, 'dropout_dense_block_one': 0.43066462367014313, 'dropout_dense_block_two': 0.5344873259576938}\n",
            "accuracy=0.9625850319862366\n",
            "{'batch_size': 190.0, 'dropout_cnn_block_one': 0.44049070188110734, 'dropout_cnn_block_three': 0.4348217631804496, 'dropout_cnn_block_two': 0.35600600541426725, 'dropout_dense_block_one': 0.5268845871387808, 'dropout_dense_block_two': 0.4192111290885324}\n",
            "accuracy=0.96417236328125\n",
            "{'batch_size': 200.0, 'dropout_cnn_block_one': 0.4334478030906561, 'dropout_cnn_block_three': 0.4726485091526376, 'dropout_cnn_block_two': 0.3052277120401836, 'dropout_dense_block_one': 0.3530137073070843, 'dropout_dense_block_two': 0.3385422530534852}\n",
            "accuracy=0.9634920358657837\n",
            "{'batch_size': 110.0, 'dropout_cnn_block_one': 0.32640407995145937, 'dropout_cnn_block_three': 0.3660342525634659, 'dropout_cnn_block_two': 0.47420803216760493, 'dropout_dense_block_one': 0.4984156787387001, 'dropout_dense_block_two': 0.3664825603714728}\n",
            "accuracy=0.9668934345245361\n",
            "{'batch_size': 130.0, 'dropout_cnn_block_one': 0.4033185860937367, 'dropout_cnn_block_three': 0.30681658818972607, 'dropout_cnn_block_two': 0.3034616987772878, 'dropout_dense_block_one': 0.3763765627954167, 'dropout_dense_block_two': 0.3010126221438769}\n",
            "accuracy=0.9594104290008545\n",
            "{'batch_size': 100.0, 'dropout_cnn_block_one': 0.33287895494486197, 'dropout_cnn_block_three': 0.49831111544577195, 'dropout_cnn_block_two': 0.31960093933822964, 'dropout_dense_block_one': 0.3964723179912546, 'dropout_dense_block_two': 0.30685085769502113}\n",
            "accuracy=0.9743764400482178\n",
            "{'batch_size': 130.0, 'dropout_cnn_block_one': 0.4979472366667809, 'dropout_cnn_block_three': 0.3262511751463298, 'dropout_cnn_block_two': 0.3726709043357962, 'dropout_dense_block_one': 0.3408585226514468, 'dropout_dense_block_two': 0.3038421191600708}\n",
            "accuracy=0.9682539701461792\n",
            "{'batch_size': 100.0, 'dropout_cnn_block_one': 0.30494159785238173, 'dropout_cnn_block_three': 0.49688890428896987, 'dropout_cnn_block_two': 0.40613664973863345, 'dropout_dense_block_one': 0.6229318196731372, 'dropout_dense_block_two': 0.4831509022754415}\n",
            "accuracy=0.9673469662666321\n",
            "{'batch_size': 140.0, 'dropout_cnn_block_one': 0.41495502281127616, 'dropout_cnn_block_three': 0.31999387927516176, 'dropout_cnn_block_two': 0.31947115031920215, 'dropout_dense_block_one': 0.693757961314731, 'dropout_dense_block_two': 0.5818136757184187}\n",
            "accuracy=0.9485260844230652\n",
            "{'batch_size': 130.0, 'dropout_cnn_block_one': 0.448363157704138, 'dropout_cnn_block_three': 0.3826384577250128, 'dropout_cnn_block_two': 0.30035512475314774, 'dropout_dense_block_one': 0.5732569888984193, 'dropout_dense_block_two': 0.6875391414150918}\n",
            "accuracy=0.9650793671607971\n",
            "{'batch_size': 120.0, 'dropout_cnn_block_one': 0.3868196240243397, 'dropout_cnn_block_three': 0.4139591457038258, 'dropout_cnn_block_two': 0.35368927752039486, 'dropout_dense_block_one': 0.409199799100848, 'dropout_dense_block_two': 0.4817529392545161}\n",
            "accuracy=0.9755101799964905\n",
            "{'batch_size': 150.0, 'dropout_cnn_block_one': 0.4142862968514516, 'dropout_cnn_block_three': 0.3796411091034819, 'dropout_cnn_block_two': 0.3757908655860553, 'dropout_dense_block_one': 0.3261584924573727, 'dropout_dense_block_two': 0.6923110818168533}\n",
            "accuracy=0.9594104290008545\n",
            "{'batch_size': 180.0, 'dropout_cnn_block_one': 0.34229378533330923, 'dropout_cnn_block_three': 0.3127439749167087, 'dropout_cnn_block_two': 0.41418385717358425, 'dropout_dense_block_one': 0.47156223464135233, 'dropout_dense_block_two': 0.32440963362867165}\n",
            "accuracy=0.9662131667137146\n",
            "{'batch_size': 160.0, 'dropout_cnn_block_one': 0.4156822752870461, 'dropout_cnn_block_three': 0.3372881420440395, 'dropout_cnn_block_two': 0.3882455312899533, 'dropout_dense_block_one': 0.6553638124118213, 'dropout_dense_block_two': 0.4047930737426598}\n",
            "accuracy=0.9755101799964905\n",
            "100%|██████████| 30/30 [11:46<00:00, 23.56s/it, best loss: -0.9800453782081604]\n"
          ],
          "name": "stdout"
        }
      ]
    },
    {
      "cell_type": "code",
      "metadata": {
        "id": "9_KmvyzrBVqw",
        "colab_type": "code",
        "colab": {}
      },
      "source": [
        ""
      ],
      "execution_count": 0,
      "outputs": []
    }
  ]
}